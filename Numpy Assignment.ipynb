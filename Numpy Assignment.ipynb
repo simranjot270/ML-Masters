{
 "cells": [
  {
   "cell_type": "markdown",
   "metadata": {},
   "source": [
    "Write a function so that the columns of the output matrix are powers of the input\n",
    "vector.\n",
    "The order of the powers is determined by the increasing boolean argument. Specifically, when\n",
    "increasing is False, the i-th output column is the input vector raised element-wise to the power\n",
    "of N - i - 1.\n",
    "HINT: Such a matrix with a geometric progression in each row is named for Alexandre-\n",
    "Theophile Vandermonde."
   ]
  },
  {
   "cell_type": "code",
   "execution_count": 4,
   "metadata": {},
   "outputs": [
    {
     "name": "stdout",
     "output_type": "stream",
     "text": [
      "Enter Vector Elements:1,2,3,4\n",
      "The Vandermonde matrix for given Vector is:\n"
     ]
    },
    {
     "data": {
      "text/plain": [
       "array([[ 1,  1,  1,  1],\n",
       "       [ 8,  4,  2,  1],\n",
       "       [27,  9,  3,  1],\n",
       "       [64, 16,  4,  1]])"
      ]
     },
     "execution_count": 4,
     "metadata": {},
     "output_type": "execute_result"
    }
   ],
   "source": [
    "import numpy as np\n",
    "s = input('Enter Vector Elements:')\n",
    "arr = np.array(s.split(','))\n",
    "arr_int = np.array([int(i) for i in arr])\n",
    "print('The Vandermonde matrix for given Vector is:')\n",
    "np.vander(arr_int, arr_int.size)\n"
   ]
  },
  {
   "cell_type": "markdown",
   "metadata": {},
   "source": [
    "Write a function to find moving average in an array over a window:\n",
    "Test it over [3, 5, 7, 2, 8, 10, 11, 65, 72, 81, 99, 100, 150] and window of 3."
   ]
  },
  {
   "cell_type": "code",
   "execution_count": 5,
   "metadata": {},
   "outputs": [
    {
     "name": "stdout",
     "output_type": "stream",
     "text": [
      "Moving average from 1 iteration: 5.0\n",
      "Moving average from 2 iteration: 4.666666666666667\n",
      "Moving average from 3 iteration: 5.666666666666667\n",
      "Moving average from 4 iteration: 6.666666666666667\n",
      "Moving average from 5 iteration: 9.666666666666666\n",
      "Moving average from 6 iteration: 28.666666666666668\n",
      "Moving average from 7 iteration: 49.333333333333336\n",
      "Moving average from 8 iteration: 72.66666666666667\n",
      "Moving average from 9 iteration: 84.0\n",
      "Moving average from 10 iteration: 93.33333333333333\n",
      "Moving average from 11 iteration: 116.33333333333333\n"
     ]
    }
   ],
   "source": [
    "a = [3, 5, 7, 2, 8, 10, 11, 65, 72, 81, 99, 100, 150]\n",
    "sum = []\n",
    "l = len(a)\n",
    "k = 3\n",
    "for i in range(l):\n",
    "    s = 0\n",
    "    try:\n",
    "        for j in range(k):\n",
    "             s += a[i+j]\n",
    "    except IndexError:\n",
    "        break\n",
    "    print('Moving average from ' + str(i+1) + ' iteration:' , s/3 , )"
   ]
  }
 ],
 "metadata": {
  "kernelspec": {
   "display_name": "Python 3",
   "language": "python",
   "name": "python3"
  },
  "language_info": {
   "codemirror_mode": {
    "name": "ipython",
    "version": 3
   },
   "file_extension": ".py",
   "mimetype": "text/x-python",
   "name": "python",
   "nbconvert_exporter": "python",
   "pygments_lexer": "ipython3",
   "version": "3.7.6"
  }
 },
 "nbformat": 4,
 "nbformat_minor": 4
}
