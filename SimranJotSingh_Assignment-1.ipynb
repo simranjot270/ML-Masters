{
 "cells": [
  {
   "cell_type": "markdown",
   "metadata": {},
   "source": [
    "1. Write a program which will find all such numbers which are divisible by 7 but are not a multiple of 5, between 2000 and 3200 (both included). The numbers obtained should be printed in a comma-separated sequence on a single line."
   ]
  },
  {
   "cell_type": "code",
   "execution_count": 1,
   "metadata": {},
   "outputs": [
    {
     "name": "stdout",
     "output_type": "stream",
     "text": [
      "2016,2051,2086,2121,2156,2191,2226,2261,2296,2331,2366,2401,2436,2471,2506,2541,2576,2611,2646,2681,2716,2751,2786,2821,2856,2891,2926,2961,2996,3031,3066,3101,3136,3171\n"
     ]
    }
   ],
   "source": [
    "numLst = []\n",
    "for i in range(2000,3201):\n",
    "    if i%7 == 0 and i%5 == 1:\n",
    "        numLst.append(str(i))\n",
    "print (','.join(numLst))"
   ]
  },
  {
   "cell_type": "markdown",
   "metadata": {},
   "source": [
    "2. Write a Python program to accept the user's first and last name and then getting them printed in the the reverse order with a space between first name and last name."
   ]
  },
  {
   "cell_type": "code",
   "execution_count": 4,
   "metadata": {
    "scrolled": true
   },
   "outputs": [
    {
     "name": "stdout",
     "output_type": "stream",
     "text": [
      "Enter your first name: Simran\n",
      "Enter your last name: Singh\n",
      "Full name in reverse order:narmiS hgniS\n"
     ]
    }
   ],
   "source": [
    "firstN = input(\"Enter your first name: \")\n",
    "lastN = input(\"Enter your last name: \")\n",
    "print (\"Full name in reverse order:\" + firstN[::-1] + ' ' + lastN[::-1])"
   ]
  },
  {
   "cell_type": "markdown",
   "metadata": {},
   "source": [
    "3. Write a Python program to find the volume of a sphere with diameter 12 cm.\n",
    "Formula: V=4/3 * π * r3"
   ]
  },
  {
   "cell_type": "code",
   "execution_count": 6,
   "metadata": {},
   "outputs": [
    {
     "name": "stdout",
     "output_type": "stream",
     "text": [
      "Volume is 904.7786842338603cm³\n"
     ]
    }
   ],
   "source": [
    "from math import pi\n",
    "dia = 12\n",
    "radius = dia/2\n",
    "print ('Volume is ' + str(float(4/3*pi*radius**3)) + 'cm\\u00b3')"
   ]
  }
 ],
 "metadata": {
  "kernelspec": {
   "display_name": "Python 3",
   "language": "python",
   "name": "python3"
  },
  "language_info": {
   "codemirror_mode": {
    "name": "ipython",
    "version": 3
   },
   "file_extension": ".py",
   "mimetype": "text/x-python",
   "name": "python",
   "nbconvert_exporter": "python",
   "pygments_lexer": "ipython3",
   "version": "3.7.6"
  }
 },
 "nbformat": 4,
 "nbformat_minor": 4
}
