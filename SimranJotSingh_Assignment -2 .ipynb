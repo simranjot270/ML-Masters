{
 "cells": [
  {
   "cell_type": "markdown",
   "metadata": {},
   "source": [
    "1. Create the below pattern using nested for loop in Python.\n",
    "*\n",
    "* *\n",
    "* * *\n",
    "* * * *\n",
    "* * * * *\n",
    "* * * *\n",
    "* * *\n",
    "* *\n",
    "*"
   ]
  },
  {
   "cell_type": "code",
   "execution_count": 35,
   "metadata": {},
   "outputs": [
    {
     "name": "stdout",
     "output_type": "stream",
     "text": [
      " \r\n",
      "*  \r\n",
      "* *  \r\n",
      "* * *  \r\n",
      "* * * *  \r\n",
      "* * * * *  \r\n",
      "* * * *  \r\n",
      "* * *  \r\n",
      "* *  \r\n",
      "*  \r\n"
     ]
    }
   ],
   "source": [
    "for a in range(5):\n",
    "    print ('* ' * a, end=' ')\n",
    "    print(\"\\r\")\n",
    "    if a == 4:\n",
    "        for b in range(a+1,0,-1):\n",
    "            print ('* ' * b, end=' ')\n",
    "            print(\"\\r\")"
   ]
  },
  {
   "cell_type": "markdown",
   "metadata": {},
   "source": [
    "2. Write a Python program to reverse a word after accepting the input from the user."
   ]
  },
  {
   "cell_type": "code",
   "execution_count": 36,
   "metadata": {},
   "outputs": [
    {
     "name": "stdout",
     "output_type": "stream",
     "text": [
      "Input word: TCS\n",
      "Output: SCT\n"
     ]
    }
   ],
   "source": [
    "word = input(\"Input word: \")\n",
    "print ('Output: ' + word[::-1])"
   ]
  }
 ],
 "metadata": {
  "kernelspec": {
   "display_name": "Python 3",
   "language": "python",
   "name": "python3"
  },
  "language_info": {
   "codemirror_mode": {
    "name": "ipython",
    "version": 3
   },
   "file_extension": ".py",
   "mimetype": "text/x-python",
   "name": "python",
   "nbconvert_exporter": "python",
   "pygments_lexer": "ipython3",
   "version": "3.7.6"
  }
 },
 "nbformat": 4,
 "nbformat_minor": 4
}
