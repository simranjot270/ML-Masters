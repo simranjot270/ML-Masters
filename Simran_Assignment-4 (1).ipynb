{
 "cells": [
  {
   "cell_type": "markdown",
   "metadata": {},
   "source": [
    "1.1 Write a Python Program(with class concepts) to find the area of the triangle using the below\n",
    "formula.\n",
    "area = (s*(s-a)*(s-b)*(s-c)) ** 0.5\n",
    "Function to take the length of the sides of triangle from user should be defined in the parent\n",
    "class and function to calculate the area should be defined in subclass."
   ]
  },
  {
   "cell_type": "code",
   "execution_count": 31,
   "metadata": {},
   "outputs": [
    {
     "name": "stdout",
     "output_type": "stream",
     "text": [
      "Enter a: 10\n",
      "Enter b: 9\n",
      "Enter c: 8\n"
     ]
    },
    {
     "data": {
      "text/plain": [
       "'Area of Triangle is 34.197039'"
      ]
     },
     "execution_count": 31,
     "metadata": {},
     "output_type": "execute_result"
    }
   ],
   "source": [
    "\n",
    "class input_sides:\n",
    "    def enter_sides(self):\n",
    "        self.a = int(input(\"Enter a: \"))\n",
    "        self.b = int(input(\"Enter b: \"))\n",
    "        self.c = int(input(\"Enter c: \"))\n",
    "\n",
    "class calculate_area(input_sides):\n",
    "    def area(self):\n",
    "        s = (self.a+self.b+self.c)/2\n",
    "        self.ar = (s*(s-self.a)*(s-self.b)*(s-self.c)) ** 0.5\n",
    "        return \"Area of Triangle is %f\" % self.ar\n",
    "    \n",
    "        \n",
    "ob1=calculate_area()\n",
    "ob1.enter_sides() \n",
    "ob1.area()"
   ]
  },
  {
   "cell_type": "code",
   "execution_count": null,
   "metadata": {},
   "outputs": [],
   "source": []
  },
  {
   "cell_type": "markdown",
   "metadata": {},
   "source": [
    "1.2 Write a function filter_long_words() that takes a list of words and an integer n and returns\n",
    "the list of words that are longer than n."
   ]
  },
  {
   "cell_type": "code",
   "execution_count": 21,
   "metadata": {},
   "outputs": [
    {
     "data": {
      "text/plain": [
       "['qwert', 'sfdgfh', 'sfdgh']"
      ]
     },
     "execution_count": 21,
     "metadata": {},
     "output_type": "execute_result"
    }
   ],
   "source": [
    "def filter_long_words(l,n):\n",
    "    new_l = []\n",
    "    for x in l:\n",
    "        if len(x) > n:\n",
    "            new_l.append(x)\n",
    "    return new_l\n",
    "            \n",
    "l = [\"qwert\",\"sfdgfh\",\"sfdgh\",\"qwe\"]\n",
    "n = 4\n",
    "filter_long_words(l,n)"
   ]
  },
  {
   "cell_type": "markdown",
   "metadata": {},
   "source": [
    "2.1 Write a Python program using function concept that maps list of words into a list of integers\n",
    "representing the lengths of the corresponding words.\n",
    "Hint: If a list [ ab,cde,erty] is passed on to the python function output should come as [2,3,4]\n",
    "Here 2,3 and 4 are the lengths of the words in the list."
   ]
  },
  {
   "cell_type": "code",
   "execution_count": 26,
   "metadata": {},
   "outputs": [
    {
     "data": {
      "text/plain": [
       "['5', '6', '5', '3']"
      ]
     },
     "execution_count": 26,
     "metadata": {},
     "output_type": "execute_result"
    }
   ],
   "source": [
    "def words_length(lst):\n",
    "    new_lst = []\n",
    "    for x in l:\n",
    "        new_lst.append(str(len(x)))\n",
    "    return new_lst\n",
    "            \n",
    "lst = [\"qwert\",\"sfdgfh\",\"sfdgh\",\"qwe\"]\n",
    "words_length(lst)"
   ]
  },
  {
   "cell_type": "markdown",
   "metadata": {},
   "source": [
    "2.2 Write a Python function which takes a character (i.e. a string of length 1) and returns True if\n",
    "it is a vowel, False otherwise."
   ]
  },
  {
   "cell_type": "code",
   "execution_count": 30,
   "metadata": {},
   "outputs": [
    {
     "data": {
      "text/plain": [
       "True"
      ]
     },
     "execution_count": 30,
     "metadata": {},
     "output_type": "execute_result"
    }
   ],
   "source": [
    "def check_vowel(c):\n",
    "    if c in ['a','i','e','o','u'] :\n",
    "        return True \n",
    "    else:\n",
    "        return False\n",
    "\n",
    "check_vowel(\"a\")"
   ]
  }
 ],
 "metadata": {
  "kernelspec": {
   "display_name": "Python 3",
   "language": "python",
   "name": "python3"
  },
  "language_info": {
   "codemirror_mode": {
    "name": "ipython",
    "version": 3
   },
   "file_extension": ".py",
   "mimetype": "text/x-python",
   "name": "python",
   "nbconvert_exporter": "python",
   "pygments_lexer": "ipython3",
   "version": "3.7.6"
  }
 },
 "nbformat": 4,
 "nbformat_minor": 4
}
